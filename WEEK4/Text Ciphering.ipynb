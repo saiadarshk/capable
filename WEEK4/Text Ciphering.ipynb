{
 "cells": [
  {
   "cell_type": "code",
   "execution_count": 6,
   "id": "4224a73d",
   "metadata": {},
   "outputs": [],
   "source": [
    "msg=\"my name is sai adarsh\""
   ]
  },
  {
   "cell_type": "code",
   "execution_count": 2,
   "id": "18726f7c",
   "metadata": {},
   "outputs": [
    {
     "data": {
      "text/plain": [
       "'my name is sai adarsh'"
      ]
     },
     "execution_count": 2,
     "metadata": {},
     "output_type": "execute_result"
    }
   ],
   "source": [
    "msg\n"
   ]
  },
  {
   "cell_type": "code",
   "execution_count": 11,
   "id": "f9b30e31",
   "metadata": {},
   "outputs": [],
   "source": [
    "cipher=msg[::-1]"
   ]
  },
  {
   "cell_type": "code",
   "execution_count": 12,
   "id": "e3a110ef",
   "metadata": {},
   "outputs": [
    {
     "data": {
      "text/plain": [
       "'hsrada ias si eman ym'"
      ]
     },
     "execution_count": 12,
     "metadata": {},
     "output_type": "execute_result"
    }
   ],
   "source": [
    "cipher\n"
   ]
  },
  {
   "cell_type": "code",
   "execution_count": 13,
   "id": "44811267",
   "metadata": {},
   "outputs": [],
   "source": [
    "decipher=cipher[::-1]"
   ]
  },
  {
   "cell_type": "code",
   "execution_count": 15,
   "id": "e48b3f06",
   "metadata": {},
   "outputs": [
    {
     "data": {
      "text/plain": [
       "'my name is sai adarsh'"
      ]
     },
     "execution_count": 15,
     "metadata": {},
     "output_type": "execute_result"
    }
   ],
   "source": [
    "decipher\n"
   ]
  },
  {
   "cell_type": "code",
   "execution_count": 19,
   "id": "30f849c1",
   "metadata": {},
   "outputs": [],
   "source": [
    "def cipher(ch):\n",
    "    return chr(ord(ch)+1)\n"
   ]
  },
  {
   "cell_type": "code",
   "execution_count": 20,
   "id": "0e4e1ac4",
   "metadata": {},
   "outputs": [
    {
     "name": "stdout",
     "output_type": "stream",
     "text": [
      "nz!obnf!jt!tbj\n"
     ]
    }
   ],
   "source": [
    "enc=''\n",
    "for i in \"my name is sai\":\n",
    "    ch=cipher(i)\n",
    "    enc+=ch\n",
    "print(enc)"
   ]
  },
  {
   "cell_type": "code",
   "execution_count": 22,
   "id": "b1be0201",
   "metadata": {},
   "outputs": [
    {
     "ename": "TypeError",
     "evalue": "'str' object is not callable",
     "output_type": "error",
     "traceback": [
      "\u001b[1;31m---------------------------------------------------------------------------\u001b[0m",
      "\u001b[1;31mTypeError\u001b[0m                                 Traceback (most recent call last)",
      "\u001b[1;32m~\\AppData\\Local\\Temp\\ipykernel_7788\\3411519936.py\u001b[0m in \u001b[0;36m<module>\u001b[1;34m\u001b[0m\n\u001b[0;32m      3\u001b[0m \u001b[0mdec\u001b[0m\u001b[1;33m=\u001b[0m\u001b[1;34m''\u001b[0m\u001b[1;33m\u001b[0m\u001b[1;33m\u001b[0m\u001b[0m\n\u001b[0;32m      4\u001b[0m \u001b[1;32mfor\u001b[0m \u001b[0mi\u001b[0m \u001b[1;32min\u001b[0m \u001b[0menc\u001b[0m\u001b[1;33m:\u001b[0m\u001b[1;33m\u001b[0m\u001b[1;33m\u001b[0m\u001b[0m\n\u001b[1;32m----> 5\u001b[1;33m     \u001b[0mdec\u001b[0m \u001b[1;33m+=\u001b[0m \u001b[0mdecipher\u001b[0m\u001b[1;33m(\u001b[0m\u001b[0mi\u001b[0m\u001b[1;33m)\u001b[0m\u001b[1;33m\u001b[0m\u001b[1;33m\u001b[0m\u001b[0m\n\u001b[0m\u001b[0;32m      6\u001b[0m \u001b[0mprint\u001b[0m\u001b[1;33m(\u001b[0m\u001b[0mdec\u001b[0m\u001b[1;33m)\u001b[0m\u001b[1;33m\u001b[0m\u001b[1;33m\u001b[0m\u001b[0m\n",
      "\u001b[1;31mTypeError\u001b[0m: 'str' object is not callable"
     ]
    }
   ],
   "source": [
    "def decifer(ch):\n",
    "    return chr(ord(ch)-1)\n",
    "dec=''\n",
    "for i in enc:\n",
    "    dec += decipher(i)\n",
    "print(dec)"
   ]
  }
 ],
 "metadata": {
  "kernelspec": {
   "display_name": "Python 3 (ipykernel)",
   "language": "python",
   "name": "python3"
  },
  "language_info": {
   "codemirror_mode": {
    "name": "ipython",
    "version": 3
   },
   "file_extension": ".py",
   "mimetype": "text/x-python",
   "name": "python",
   "nbconvert_exporter": "python",
   "pygments_lexer": "ipython3",
   "version": "3.9.13"
  }
 },
 "nbformat": 4,
 "nbformat_minor": 5
}
