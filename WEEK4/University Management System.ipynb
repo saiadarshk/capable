{
 "cells": [
  {
   "cell_type": "code",
   "execution_count": null,
   "id": "a3dcb6c6",
   "metadata": {},
   "outputs": [],
   "source": [
    "student={218567:{'first_name':'sai','last_name':'adarsh','phone_no':9847562310,'mail_id':'saiadarshk2112@gmail.com','branch':'ece','batch':2013-17},\n",
    "         218568:{'first_name':'madasu','last_name':'prabhas','phone_no':9254782310,'mail_id':'prabhasmadasu122@gmail.com','branch':'cse','batch':2013-17},\n",
    "         218569:{'first_name':'hari','last_name':'kishore','phone_no':9895889610,'mail_id':'harikishore23@gmail.com','branch':'it','batch':2013-17},\n",
    "         218570:{'first_name':'sai','last_name':'pavan','phone_no':9840584460,'mail_id':'saipavan2128@gmail.com','branch':'eee','batch':2013-17}}\n",
    "         \n",
    "         \n"
   ]
  },
  {
   "cell_type": "code",
   "execution_count": 6,
   "id": "6af1616a",
   "metadata": {},
   "outputs": [
    {
     "data": {
      "text/plain": [
       "9847562310"
      ]
     },
     "execution_count": 6,
     "metadata": {},
     "output_type": "execute_result"
    }
   ],
   "source": [
    "student[218567]['phone_no']"
   ]
  },
  {
   "cell_type": "code",
   "execution_count": 8,
   "id": "b7a576ab",
   "metadata": {},
   "outputs": [
    {
     "name": "stdout",
     "output_type": "stream",
     "text": [
      "Enter the registration number:218567\n",
      "{'first_name': 'sai', 'last_name': 'adarsh', 'phone_no': 9847562310, 'mail_id': 'saiadarshk2112@gmail.com', 'branch': 'ece', 'batch': 1996}\n"
     ]
    }
   ],
   "source": [
    "reg_no=int(input(\"Enter the registration number:\"))\n",
    "print(student[reg_no])"
   ]
  },
  {
   "cell_type": "code",
   "execution_count": 4,
   "id": "2ace3cb6",
   "metadata": {},
   "outputs": [
    {
     "name": "stdout",
     "output_type": "stream",
     "text": [
      "Enter the registration number:218570\n",
      "first_name: sai\n",
      "last_name : pavan\n",
      "phone_no  : 9840584460\n",
      "mail_id   : saipavan2128@gmail.com\n",
      "branch    : eee\n",
      "batch     : 1996\n"
     ]
    }
   ],
   "source": [
    "reg_no=int(input(\"Enter the registration number:\"))\n",
    "print(\"first_name:\",student[reg_no]['first_name'])\n",
    "print(\"last_name :\",student[reg_no]['last_name'])\n",
    "print(\"phone_no  :\",student[reg_no]['phone_no'])\n",
    "print(\"mail_id   :\",student[reg_no]['mail_id'])\n",
    "print(\"branch    :\",student[reg_no]['branch'])\n",
    "print(\"batch     :\",student[reg_no]['batch'])"
   ]
  },
  {
   "cell_type": "markdown",
   "id": "dad56cc4",
   "metadata": {},
   "source": [
    "## adding new details"
   ]
  },
  {
   "cell_type": "code",
   "execution_count": 5,
   "id": "26a43b0e",
   "metadata": {},
   "outputs": [
    {
     "name": "stdout",
     "output_type": "stream",
     "text": [
      "Enter the registration number:218571\n",
      "Enter the first name:stanley\n",
      "Enter the last name:stephen\n",
      "Enter the phone_no:5894762130\n",
      "Enter the mail_id:stanley@gmail.com\n",
      "Enter the branch:cse\n",
      "Enter the batch:2018\n"
     ]
    }
   ],
   "source": [
    "reg_no=int(input(\"Enter the registration number:\"))\n",
    "first_name=str(input(\"Enter the first name:\"))\n",
    "last_name=str(input(\"Enter the last name:\"))\n",
    "phone_no=int(input(\"Enter the phone_no:\"))\n",
    "mail_id=str(input(\"Enter the mail_id:\"))\n",
    "branch=str(input(\"Enter the branch:\"))\n",
    "batch=int(input(\"Enter the batch:\"))\n",
    "\n",
    "temp={}\n",
    "temp['first_name']=first_name\n",
    "temp['last_name']=last_name\n",
    "temp['phone_no']=phone_no\n",
    "temp['mail_id']=mail_id\n",
    "temp['branch']=branch\n",
    "temp['batch']=batch\n",
    "\n",
    "student[reg_no]=temp"
   ]
  },
  {
   "cell_type": "code",
   "execution_count": 8,
   "id": "136bceb9",
   "metadata": {},
   "outputs": [],
   "source": [
    "student[218570][phone_no]=8547692100"
   ]
  },
  {
   "cell_type": "code",
   "execution_count": 9,
   "id": "502c1188",
   "metadata": {},
   "outputs": [
    {
     "data": {
      "text/plain": [
       "{218567: {'first_name': 'sai',\n",
       "  'last_name': 'adarsh',\n",
       "  'phone_no': 9847562310,\n",
       "  'mail_id': 'saiadarshk2112@gmail.com',\n",
       "  'branch': 'ece',\n",
       "  'batch': 1996},\n",
       " 218568: {'first_name': 'madasu',\n",
       "  'last_name': 'prabhas',\n",
       "  'phone_no': 9254782310,\n",
       "  'mail_id': 'prabhasmadasu122@gmail.com',\n",
       "  'branch': 'cse',\n",
       "  'batch': 1996},\n",
       " 218569: {'first_name': 'hari',\n",
       "  'last_name': 'kishore',\n",
       "  'phone_no': 9895889610,\n",
       "  'mail_id': 'harikishore23@gmail.com',\n",
       "  'branch': 'it',\n",
       "  'batch': 1996},\n",
       " 218570: {'first_name': 'sai',\n",
       "  'last_name': 'pavan',\n",
       "  'phone_no': 9840584460,\n",
       "  'mail_id': 'saipavan2128@gmail.com',\n",
       "  'branch': 'eee',\n",
       "  'batch': 1996,\n",
       "  5894762130: 8547692100},\n",
       " 218571: {'first_name': 'stanley',\n",
       "  'last_name': 'stephen',\n",
       "  'phone_no': 5894762130,\n",
       "  'mail_id': 'stanley@gmail.com',\n",
       "  'branch': 'cse',\n",
       "  'batch': 2018}}"
      ]
     },
     "execution_count": 9,
     "metadata": {},
     "output_type": "execute_result"
    }
   ],
   "source": [
    "student"
   ]
  },
  {
   "cell_type": "markdown",
   "id": "e2a4552a",
   "metadata": {},
   "source": [
    "## section details"
   ]
  },
  {
   "cell_type": "code",
   "execution_count": 11,
   "id": "8eb273cb",
   "metadata": {},
   "outputs": [],
   "source": [
    "section = {'K1632' : {'hod' : 12545, 'degree' : 'CSE', 'teacher' : [12255, 12343, 15434,13242]},\n",
    "           'K1631' : {'hod' : 12544, 'degree' : 'CSE', 'teacher' : [12343, 15434,12255]},\n",
    "           'K1630' : {'hod' : 12543, 'degree' : 'CSE', 'teacher' : [13242,12343]}}"
   ]
  },
  {
   "cell_type": "code",
   "execution_count": 13,
   "id": "7faac97f",
   "metadata": {},
   "outputs": [
    {
     "data": {
      "text/plain": [
       "'Abkush'"
      ]
     },
     "execution_count": 13,
     "metadata": {},
     "output_type": "execute_result"
    }
   ],
   "source": [
    "teacher[section['K1630']['hod']]['first_name']"
   ]
  },
  {
   "cell_type": "markdown",
   "id": "c14fde34",
   "metadata": {},
   "source": [
    "## teacher details"
   ]
  },
  {
   "cell_type": "code",
   "execution_count": 14,
   "id": "f3256e9b",
   "metadata": {},
   "outputs": [],
   "source": [
    "teacher = { 12543 : {'first_name':'Ashish', \n",
    "                 'mail' : 'abc@gmail.com'},\n",
    "      12255 :  {'first_name':'Abhishek', \n",
    "                 'mail' : 'abc@gmail.com'},\n",
    "      12256 :  {'first_name':'Abhi', \n",
    "                 'mail' : 'abc@gmail.com'},\n",
    "      12343 : {'first_name':'Abhimanyu', \n",
    "                 'mail' : 'abc@gmail.com'},\n",
    "      15434 : {'first_name':'Karan', \n",
    "                 'mail' : 'abc@gmail.com'},\n",
    "      13242 : {'first_name':'Arjun', \n",
    "                 'mail' : 'abc@gmail.com'},\n",
    "      12544 : {'first_name':'Ayush', \n",
    "                 'mail' : 'abc@gmail.com'},\n",
    "      12543 : {'first_name':'Abkush', \n",
    "                 'mail' : 'abc@gmail.com'},\n",
    "      12348 : {'first_name':'Bharat', \n",
    "                 'mail' : 'abc@gmail.com'}}"
   ]
  },
  {
   "cell_type": "code",
   "execution_count": null,
   "id": "07d73d24",
   "metadata": {},
   "outputs": [],
   "source": []
  },
  {
   "cell_type": "code",
   "execution_count": 11,
   "id": "8519f3e3",
   "metadata": {},
   "outputs": [
    {
     "name": "stdout",
     "output_type": "stream",
     "text": [
      "HOD :  Ayush ( 12544 )\n",
      "Degree :  CSE\n",
      "--Teachers--\n",
      "Abhimanyu\n",
      "Karan\n",
      "Abhishek\n",
      "----------\n"
     ]
    }
   ],
   "source": [
    "print(\"HOD : \", teacher[section['K1631']['hod']]['first_name'],'(',section['K1631']['hod'],')')\n",
    "print(\"Degree : \", section['K1631']['degree'])\n",
    "\n",
    "print('--Teachers--')\n",
    "for i in section['K1631']['teacher']:\n",
    "    print(teacher[i]['first_name'])\n",
    "    \n",
    "print('-'*10)"
   ]
  }
 ],
 "metadata": {
  "kernelspec": {
   "display_name": "Python 3 (ipykernel)",
   "language": "python",
   "name": "python3"
  },
  "language_info": {
   "codemirror_mode": {
    "name": "ipython",
    "version": 3
   },
   "file_extension": ".py",
   "mimetype": "text/x-python",
   "name": "python",
   "nbconvert_exporter": "python",
   "pygments_lexer": "ipython3",
   "version": "3.9.13"
  }
 },
 "nbformat": 4,
 "nbformat_minor": 5
}
