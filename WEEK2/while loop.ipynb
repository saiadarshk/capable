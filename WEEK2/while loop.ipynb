{
 "cells": [
  {
   "cell_type": "code",
   "execution_count": 1,
   "id": "b807954c",
   "metadata": {},
   "outputs": [
    {
     "name": "stdout",
     "output_type": "stream",
     "text": [
      "5467\n"
     ]
    }
   ],
   "source": [
    "x=5467\n",
    "\n",
    "n=0\n",
    "\n",
    "while(n!=x):\n",
    "    n+=1\n",
    "print(n)"
   ]
  },
  {
   "cell_type": "code",
   "execution_count": 1,
   "id": "4d8487ea",
   "metadata": {},
   "outputs": [
    {
     "name": "stdout",
     "output_type": "stream",
     "text": [
      "1,5,7,11,13,17,19,23,25,29,31,35,37,41,43,47,49,53,55,59,"
     ]
    }
   ],
   "source": [
    "counter=0\n",
    "num=1\n",
    "while (counter<20):\n",
    "    if (num%2!=0) and (num%3!=0):\n",
    "        print(num,end=\",\")\n",
    "        counter+=1\n",
    "    num+=1"
   ]
  }
 ],
 "metadata": {
  "kernelspec": {
   "display_name": "Python 3 (ipykernel)",
   "language": "python",
   "name": "python3"
  },
  "language_info": {
   "codemirror_mode": {
    "name": "ipython",
    "version": 3
   },
   "file_extension": ".py",
   "mimetype": "text/x-python",
   "name": "python",
   "nbconvert_exporter": "python",
   "pygments_lexer": "ipython3",
   "version": "3.9.13"
  }
 },
 "nbformat": 4,
 "nbformat_minor": 5
}
