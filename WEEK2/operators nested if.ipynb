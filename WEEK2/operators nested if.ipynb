{
 "cells": [
  {
   "cell_type": "markdown",
   "id": "2dd549c2",
   "metadata": {},
   "source": [
    "## operators"
   ]
  },
  {
   "cell_type": "code",
   "execution_count": 1,
   "id": "0b9fd5af",
   "metadata": {},
   "outputs": [
    {
     "name": "stdout",
     "output_type": "stream",
     "text": [
      "Enter the age of the person:19\n",
      "the person is eligible for voting\n"
     ]
    }
   ],
   "source": [
    "age=int(input(\"Enter the age of the person:\"))\n",
    "if(age>=18):\n",
    "    print(\"the person is eligible for voting\");\n",
    "else:\n",
    "    print(\"the person isn't eligible for voting\");"
   ]
  },
  {
   "cell_type": "markdown",
   "id": "739bd793",
   "metadata": {},
   "source": [
    "## nested if "
   ]
  },
  {
   "cell_type": "code",
   "execution_count": 7,
   "id": "f430a03d",
   "metadata": {},
   "outputs": [
    {
     "name": "stdout",
     "output_type": "stream",
     "text": [
      "enter the number:567\n",
      "not divisible\n"
     ]
    }
   ],
   "source": [
    "num=int(input(\"enter the number:\"))\n",
    "if((num%5==0) and (num%7==0) and (num%9==0)):\n",
    "    print('divisible');\n",
    "else:\n",
    "    print('not divisible')\n",
    "    "
   ]
  },
  {
   "cell_type": "markdown",
   "id": "738a80da",
   "metadata": {},
   "source": []
  }
 ],
 "metadata": {
  "kernelspec": {
   "display_name": "Python 3 (ipykernel)",
   "language": "python",
   "name": "python3"
  },
  "language_info": {
   "codemirror_mode": {
    "name": "ipython",
    "version": 3
   },
   "file_extension": ".py",
   "mimetype": "text/x-python",
   "name": "python",
   "nbconvert_exporter": "python",
   "pygments_lexer": "ipython3",
   "version": "3.9.13"
  }
 },
 "nbformat": 4,
 "nbformat_minor": 5
}
