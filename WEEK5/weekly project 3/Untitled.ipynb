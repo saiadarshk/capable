{
 "cells": [
  {
   "cell_type": "code",
   "execution_count": 2,
   "id": "e9159715",
   "metadata": {},
   "outputs": [],
   "source": [
    "#To find the average cases in a country using Python, you can follow these steps:\n",
    "\n",
    "#a. Load the dataset into Python using a library like Pandas.\n",
    "#b. Filter the dataset based on the country you're interested in.\n",
    "#c. Calculate the total number of cases for that country.\n",
    "#d. Divide the total number of cases by the number of days for which the data is available to get the average cases per day.\n",
    "\n",
    "#To find the total number of deaths as per the dataset, you can follow these steps:\n",
    "\n",
    "#a. Load the dataset into Python using a library like Pandas.\n",
    "#b. Sum up the number of deaths across all rows in the dataset.\n",
    "\n",
    "#To find the total number of confirmed cases, you can follow these steps:\n",
    "\n",
    "#a. Load the dataset into Python using a library like Pandas.\n",
    "#b. Sum up the number of confirmed cases across all rows in the dataset."
   ]
  }
 ],
 "metadata": {
  "kernelspec": {
   "display_name": "Python 3 (ipykernel)",
   "language": "python",
   "name": "python3"
  },
  "language_info": {
   "codemirror_mode": {
    "name": "ipython",
    "version": 3
   },
   "file_extension": ".py",
   "mimetype": "text/x-python",
   "name": "python",
   "nbconvert_exporter": "python",
   "pygments_lexer": "ipython3",
   "version": "3.9.13"
  }
 },
 "nbformat": 4,
 "nbformat_minor": 5
}
