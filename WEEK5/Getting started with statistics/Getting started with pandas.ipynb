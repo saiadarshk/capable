{
 "cells": [
  {
   "cell_type": "code",
   "execution_count": 1,
   "id": "8087e4ba",
   "metadata": {},
   "outputs": [],
   "source": [
    "import numpy as np\n",
    "import pandas as pd"
   ]
  },
  {
   "cell_type": "code",
   "execution_count": 161,
   "id": "3a4a02b1",
   "metadata": {},
   "outputs": [],
   "source": [
    "df=pd.read_csv(\"c:\\\\Users\\\\Adarsh\\\\python\\\\WEEK5\\\\final.csv\")"
   ]
  },
  {
   "cell_type": "code",
   "execution_count": 171,
   "id": "d578f99d",
   "metadata": {},
   "outputs": [],
   "source": [
    "data=list(df['eng'])"
   ]
  },
  {
   "cell_type": "code",
   "execution_count": 172,
   "id": "662cde66",
   "metadata": {},
   "outputs": [
    {
     "data": {
      "text/html": [
       "<div>\n",
       "<style scoped>\n",
       "    .dataframe tbody tr th:only-of-type {\n",
       "        vertical-align: middle;\n",
       "    }\n",
       "\n",
       "    .dataframe tbody tr th {\n",
       "        vertical-align: top;\n",
       "    }\n",
       "\n",
       "    .dataframe thead th {\n",
       "        text-align: right;\n",
       "    }\n",
       "</style>\n",
       "<table border=\"1\" class=\"dataframe\">\n",
       "  <thead>\n",
       "    <tr style=\"text-align: right;\">\n",
       "      <th></th>\n",
       "      <th>name</th>\n",
       "      <th>tel</th>\n",
       "      <th>eng</th>\n",
       "      <th>mat</th>\n",
       "      <th>sci</th>\n",
       "    </tr>\n",
       "  </thead>\n",
       "  <tbody>\n",
       "    <tr>\n",
       "      <th>0</th>\n",
       "      <td>ashish</td>\n",
       "      <td>45.0</td>\n",
       "      <td>65.0</td>\n",
       "      <td>76.0</td>\n",
       "      <td>78.0</td>\n",
       "    </tr>\n",
       "    <tr>\n",
       "      <th>1</th>\n",
       "      <td>raj</td>\n",
       "      <td>65.0</td>\n",
       "      <td>45.0</td>\n",
       "      <td>65.0</td>\n",
       "      <td>76.0</td>\n",
       "    </tr>\n",
       "    <tr>\n",
       "      <th>2</th>\n",
       "      <td>rohini</td>\n",
       "      <td>65.0</td>\n",
       "      <td>67.0</td>\n",
       "      <td>6.0</td>\n",
       "      <td>55.0</td>\n",
       "    </tr>\n",
       "    <tr>\n",
       "      <th>3</th>\n",
       "      <td>rakesh</td>\n",
       "      <td>65.0</td>\n",
       "      <td>66.0</td>\n",
       "      <td>77.0</td>\n",
       "      <td>88.0</td>\n",
       "    </tr>\n",
       "    <tr>\n",
       "      <th>4</th>\n",
       "      <td>rajesh</td>\n",
       "      <td>88.0</td>\n",
       "      <td>77.0</td>\n",
       "      <td>87.0</td>\n",
       "      <td>89.0</td>\n",
       "    </tr>\n",
       "    <tr>\n",
       "      <th>5</th>\n",
       "      <td>manish</td>\n",
       "      <td>65.0</td>\n",
       "      <td>45.0</td>\n",
       "      <td>45.0</td>\n",
       "      <td>45.0</td>\n",
       "    </tr>\n",
       "    <tr>\n",
       "      <th>6</th>\n",
       "      <td>manoj</td>\n",
       "      <td>65.0</td>\n",
       "      <td>66.0</td>\n",
       "      <td>88.0</td>\n",
       "      <td>56.0</td>\n",
       "    </tr>\n",
       "    <tr>\n",
       "      <th>7</th>\n",
       "      <td>suraj</td>\n",
       "      <td>66.0</td>\n",
       "      <td>61.0</td>\n",
       "      <td>76.0</td>\n",
       "      <td>87.0</td>\n",
       "    </tr>\n",
       "    <tr>\n",
       "      <th>8</th>\n",
       "      <td>sumit</td>\n",
       "      <td>66.0</td>\n",
       "      <td>77.0</td>\n",
       "      <td>64.0</td>\n",
       "      <td>89.0</td>\n",
       "    </tr>\n",
       "    <tr>\n",
       "      <th>9</th>\n",
       "      <td>ratish</td>\n",
       "      <td>66.0</td>\n",
       "      <td>55.0</td>\n",
       "      <td>66.0</td>\n",
       "      <td>74.0</td>\n",
       "    </tr>\n",
       "    <tr>\n",
       "      <th>10</th>\n",
       "      <td>tanisha</td>\n",
       "      <td>77.0</td>\n",
       "      <td>66.0</td>\n",
       "      <td>56.0</td>\n",
       "      <td>87.0</td>\n",
       "    </tr>\n",
       "    <tr>\n",
       "      <th>11</th>\n",
       "      <td>Anonymous</td>\n",
       "      <td>98.0</td>\n",
       "      <td>89.0</td>\n",
       "      <td>98.0</td>\n",
       "      <td>88.0</td>\n",
       "    </tr>\n",
       "    <tr>\n",
       "      <th>12</th>\n",
       "      <td>Anonymous</td>\n",
       "      <td>22.0</td>\n",
       "      <td>23.0</td>\n",
       "      <td>34.0</td>\n",
       "      <td>32.0</td>\n",
       "    </tr>\n",
       "  </tbody>\n",
       "</table>\n",
       "</div>"
      ],
      "text/plain": [
       "         name   tel   eng   mat   sci\n",
       "0      ashish  45.0  65.0  76.0  78.0\n",
       "1         raj  65.0  45.0  65.0  76.0\n",
       "2      rohini  65.0  67.0   6.0  55.0\n",
       "3      rakesh  65.0  66.0  77.0  88.0\n",
       "4      rajesh  88.0  77.0  87.0  89.0\n",
       "5      manish  65.0  45.0  45.0  45.0\n",
       "6       manoj  65.0  66.0  88.0  56.0\n",
       "7       suraj  66.0  61.0  76.0  87.0\n",
       "8       sumit  66.0  77.0  64.0  89.0\n",
       "9      ratish  66.0  55.0  66.0  74.0\n",
       "10    tanisha  77.0  66.0  56.0  87.0\n",
       "11  Anonymous  98.0  89.0  98.0  88.0\n",
       "12  Anonymous  22.0  23.0  34.0  32.0"
      ]
     },
     "execution_count": 172,
     "metadata": {},
     "output_type": "execute_result"
    }
   ],
   "source": [
    "df"
   ]
  },
  {
   "cell_type": "code",
   "execution_count": 173,
   "id": "fd54f037",
   "metadata": {},
   "outputs": [
    {
     "ename": "TypeError",
     "evalue": "'function' object is not subscriptable",
     "output_type": "error",
     "traceback": [
      "\u001b[1;31m---------------------------------------------------------------------------\u001b[0m",
      "\u001b[1;31mTypeError\u001b[0m                                 Traceback (most recent call last)",
      "\u001b[1;32m~\\AppData\\Local\\Temp\\ipykernel_8304\\1308641982.py\u001b[0m in \u001b[0;36m<module>\u001b[1;34m\u001b[0m\n\u001b[1;32m----> 1\u001b[1;33m \u001b[0mmean\u001b[0m\u001b[1;33m[\u001b[0m\u001b[1;36m1\u001b[0m\u001b[1;33m,\u001b[0m\u001b[1;36m2\u001b[0m\u001b[1;33m,\u001b[0m\u001b[1;36m3\u001b[0m\u001b[1;33m,\u001b[0m\u001b[1;36m4\u001b[0m\u001b[1;33m,\u001b[0m\u001b[1;36m5\u001b[0m\u001b[1;33m]\u001b[0m\u001b[1;33m\u001b[0m\u001b[1;33m\u001b[0m\u001b[0m\n\u001b[0m",
      "\u001b[1;31mTypeError\u001b[0m: 'function' object is not subscriptable"
     ]
    }
   ],
   "source": [
    "mean[1,2,3,4,5]"
   ]
  },
  {
   "cell_type": "markdown",
   "id": "42dfc35a",
   "metadata": {},
   "source": []
  },
  {
   "cell_type": "markdown",
   "id": "22926930",
   "metadata": {},
   "source": [
    "## 1)mean"
   ]
  },
  {
   "cell_type": "code",
   "execution_count": 10,
   "id": "2662d12e",
   "metadata": {},
   "outputs": [
    {
     "data": {
      "text/plain": [
       "[65.0, 45.0, 67.0, 66.0, 77.0, 45.0, 66.0, 61.0, 77.0, 55.0, 66.0, 89.0, 23.0]"
      ]
     },
     "execution_count": 10,
     "metadata": {},
     "output_type": "execute_result"
    }
   ],
   "source": [
    "data"
   ]
  },
  {
   "cell_type": "code",
   "execution_count": 174,
   "id": "ab499938",
   "metadata": {},
   "outputs": [],
   "source": [
    "def mean(data):\n",
    "    total=0\n",
    "    for i in data:\n",
    "        total=total+i\n",
    "    return float(total/len(data))"
   ]
  },
  {
   "cell_type": "code",
   "execution_count": 177,
   "id": "765bc2b6",
   "metadata": {},
   "outputs": [
    {
     "name": "stdout",
     "output_type": "stream",
     "text": [
      "Median: 3\n",
      "Odd\n"
     ]
    }
   ],
   "source": [
    "median([1,2,3,4,5])"
   ]
  },
  {
   "cell_type": "code",
   "execution_count": null,
   "id": "14ea31e7",
   "metadata": {},
   "outputs": [],
   "source": []
  },
  {
   "cell_type": "code",
   "execution_count": 15,
   "id": "5dd37315",
   "metadata": {},
   "outputs": [
    {
     "name": "stdout",
     "output_type": "stream",
     "text": [
      "the avg marks got by students in english: 61.69230769230769\n"
     ]
    }
   ],
   "source": [
    "print(\"the avg marks got by students in english:\",total/len(data))"
   ]
  },
  {
   "cell_type": "code",
   "execution_count": 24,
   "id": "19066db1",
   "metadata": {},
   "outputs": [
    {
     "data": {
      "text/plain": [
       "61.69230769230769"
      ]
     },
     "execution_count": 24,
     "metadata": {},
     "output_type": "execute_result"
    }
   ],
   "source": [
    "mean(list(df['eng']))"
   ]
  },
  {
   "cell_type": "code",
   "execution_count": 25,
   "id": "37fba5e0",
   "metadata": {},
   "outputs": [
    {
     "data": {
      "text/plain": [
       "65.61538461538461"
      ]
     },
     "execution_count": 25,
     "metadata": {},
     "output_type": "execute_result"
    }
   ],
   "source": [
    "mean(list(df['tel']))"
   ]
  },
  {
   "cell_type": "code",
   "execution_count": 26,
   "id": "fe555208",
   "metadata": {},
   "outputs": [
    {
     "data": {
      "text/plain": [
       "64.46153846153847"
      ]
     },
     "execution_count": 26,
     "metadata": {},
     "output_type": "execute_result"
    }
   ],
   "source": [
    "mean(list(df['mat']))"
   ]
  },
  {
   "cell_type": "code",
   "execution_count": 27,
   "id": "5c2561a7",
   "metadata": {},
   "outputs": [
    {
     "data": {
      "text/plain": [
       "72.61538461538461"
      ]
     },
     "execution_count": 27,
     "metadata": {},
     "output_type": "execute_result"
    }
   ],
   "source": [
    "mean(list(df['sci']))"
   ]
  },
  {
   "cell_type": "markdown",
   "id": "8b358720",
   "metadata": {},
   "source": [
    "### 3)Median"
   ]
  },
  {
   "cell_type": "code",
   "execution_count": 85,
   "id": "4be194e4",
   "metadata": {},
   "outputs": [],
   "source": [
    "dat1=[1,2,3,4,5]"
   ]
  },
  {
   "cell_type": "code",
   "execution_count": 88,
   "id": "75bc8416",
   "metadata": {},
   "outputs": [],
   "source": [
    "dat2=[1,2,3,4]"
   ]
  },
  {
   "cell_type": "code",
   "execution_count": 89,
   "id": "f2abeb8b",
   "metadata": {},
   "outputs": [],
   "source": [
    "data1=list(np.sort(dat1))"
   ]
  },
  {
   "cell_type": "code",
   "execution_count": 90,
   "id": "a0d3e16f",
   "metadata": {},
   "outputs": [
    {
     "data": {
      "text/plain": [
       "3"
      ]
     },
     "execution_count": 90,
     "metadata": {},
     "output_type": "execute_result"
    }
   ],
   "source": [
    "data1[len(data1)//2]"
   ]
  },
  {
   "cell_type": "code",
   "execution_count": 91,
   "id": "7db86749",
   "metadata": {},
   "outputs": [],
   "source": [
    "data2=list(np.sort(dat2))"
   ]
  },
  {
   "cell_type": "code",
   "execution_count": 97,
   "id": "2c1a53df",
   "metadata": {},
   "outputs": [
    {
     "data": {
      "text/plain": [
       "(2, 3)"
      ]
     },
     "execution_count": 97,
     "metadata": {},
     "output_type": "execute_result"
    }
   ],
   "source": [
    "data2[len(data2)//2-1],data2[(len(data2)//2)]"
   ]
  },
  {
   "cell_type": "code",
   "execution_count": 138,
   "id": "0fb0f8dc",
   "metadata": {},
   "outputs": [],
   "source": [
    "data3=[2,1,1,4,5]"
   ]
  },
  {
   "cell_type": "code",
   "execution_count": 163,
   "id": "4bfad615",
   "metadata": {},
   "outputs": [],
   "source": [
    "def median(data3):    \n",
    "    data3=list(np.sort(data3))\n",
    "    if (len(data3)%2)==0:\n",
    "        print(\"Median:\",(data3[len(data3)//2-1]+data3[(len(data3)//2)])//2)\n",
    "        print(\"Even\")\n",
    "    else:\n",
    "        print(\"Median:\",data3[(len(data3)//2)])\n",
    "        print(\"Odd\")"
   ]
  },
  {
   "cell_type": "code",
   "execution_count": 110,
   "id": "1f9cc917",
   "metadata": {},
   "outputs": [
    {
     "name": "stdout",
     "output_type": "stream",
     "text": [
      "Median: 2\n",
      "Even\n"
     ]
    }
   ],
   "source": [
    "median(data2)"
   ]
  },
  {
   "cell_type": "code",
   "execution_count": 112,
   "id": "4cdd3855",
   "metadata": {},
   "outputs": [
    {
     "name": "stdout",
     "output_type": "stream",
     "text": [
      "Median: 4\n",
      "Odd\n"
     ]
    }
   ],
   "source": [
    "median([1,5,6,3,4])"
   ]
  },
  {
   "cell_type": "markdown",
   "id": "122db198",
   "metadata": {},
   "source": [
    "## 3)Mode"
   ]
  },
  {
   "cell_type": "code",
   "execution_count": 128,
   "id": "7a156fbe",
   "metadata": {},
   "outputs": [],
   "source": [
    "lst=[1,2,3,4,5,5,6,6,6]"
   ]
  },
  {
   "cell_type": "code",
   "execution_count": 126,
   "id": "7baa30d8",
   "metadata": {},
   "outputs": [
    {
     "name": "stdout",
     "output_type": "stream",
     "text": [
      "6\n"
     ]
    }
   ],
   "source": [
    "frq=[]\n",
    "for i in set(lst):\n",
    "   frq.append([i,lst.count(i)])\n",
    "df=pd.DataFrame(frq,columns=[\"num\",\"frq\"])\n",
    "print(df.sort_values(by='frq',ascending=False).head(1).values[0][0])"
   ]
  },
  {
   "cell_type": "code",
   "execution_count": 164,
   "id": "dba34601",
   "metadata": {},
   "outputs": [],
   "source": [
    "def mode(lst):\n",
    "    frq=[]\n",
    "    for i in set(lst):\n",
    "        frq.append([i,lst.count(i)])\n",
    "    df=pd.DataFrame(frq,columns=[\"num\",\"frq\"])\n",
    "    print(df.sort_values(by='frq',ascending=False).head(1).values[0][0])"
   ]
  },
  {
   "cell_type": "code",
   "execution_count": 141,
   "id": "987a29f1",
   "metadata": {},
   "outputs": [
    {
     "name": "stdout",
     "output_type": "stream",
     "text": [
      "7\n"
     ]
    }
   ],
   "source": [
    "mode([3,3,4,5,6,7,7,7,9])"
   ]
  },
  {
   "cell_type": "markdown",
   "id": "33fca086",
   "metadata": {},
   "source": [
    "### 4) mode using dictionaries"
   ]
  },
  {
   "cell_type": "code",
   "execution_count": 142,
   "id": "cedc9107",
   "metadata": {},
   "outputs": [],
   "source": [
    "lst1=[1,2,3,4,4,4,5,5,5,6,6,6,6]"
   ]
  },
  {
   "cell_type": "code",
   "execution_count": 165,
   "id": "fd490519",
   "metadata": {},
   "outputs": [],
   "source": [
    "def mode1(lst1):    \n",
    "    dct={}\n",
    "    for i in lst1:\n",
    "        if (i not in dct.keys()):\n",
    "            dct[i]=1\n",
    "        else:\n",
    "            dct[i]=dct[i]+1\n",
    "    num=dct.keys()\n",
    "    freq=dct.values()\n",
    "    df=pd.DataFrame([list(num),list(freq)])\n",
    "    print(df.T.sort_values(by=1,ascending=False).head(1).values[0][0])"
   ]
  },
  {
   "cell_type": "code",
   "execution_count": 160,
   "id": "b02c0b05",
   "metadata": {},
   "outputs": [
    {
     "name": "stdout",
     "output_type": "stream",
     "text": [
      "2\n"
     ]
    }
   ],
   "source": [
    "mode1([1,2,2,2,2,3,3,4,4,5])"
   ]
  },
  {
   "cell_type": "code",
   "execution_count": 166,
   "id": "de7dfd78",
   "metadata": {},
   "outputs": [
    {
     "name": "stdout",
     "output_type": "stream",
     "text": [
      "mean of tel: 65.61538461538461\n",
      "mean of eng: 61.69230769230769\n",
      "mean of mat: 64.46153846153847\n",
      "mean of sci: 72.61538461538461\n"
     ]
    }
   ],
   "source": [
    "print(\"mean of tel:\",mean(list(df['tel'])))\n",
    "print(\"mean of eng:\",mean(list(df['eng'])))\n",
    "print(\"mean of mat:\",mean(list(df['mat'])))\n",
    "print(\"mean of sci:\",mean(list(df['sci'])))"
   ]
  },
  {
   "cell_type": "code",
   "execution_count": 167,
   "id": "9a203d84",
   "metadata": {},
   "outputs": [
    {
     "name": "stdout",
     "output_type": "stream",
     "text": [
      "Median: 65.0\n",
      "Odd\n",
      "median of tel: None\n",
      "Median: 66.0\n",
      "Odd\n",
      "median of eng: None\n",
      "Median: 66.0\n",
      "Odd\n",
      "median of mat: None\n",
      "Median: 78.0\n",
      "Odd\n",
      "median of sci: None\n"
     ]
    }
   ],
   "source": [
    "print(\"median of tel:\",median(list(df['tel'])))\n",
    "print(\"median of eng:\",median(list(df['eng'])))\n",
    "print(\"median of mat:\",median(list(df['mat'])))\n",
    "print(\"median of sci:\",median(list(df['sci'])))"
   ]
  },
  {
   "cell_type": "code",
   "execution_count": 169,
   "id": "def7fad4",
   "metadata": {},
   "outputs": [
    {
     "name": "stdout",
     "output_type": "stream",
     "text": [
      "65.0\n",
      "mode of tel: None\n",
      "66.0\n",
      "mode of eng: None\n",
      "76.0\n",
      "mode of mat: None\n",
      "87.0\n",
      "mode of sci: None\n"
     ]
    }
   ],
   "source": [
    "print(\"mode of tel:\",mode(list(df['tel'])))\n",
    "print(\"mode of eng:\",mode(list(df['eng'])))\n",
    "print(\"mode of mat:\",mode(list(df['mat'])))\n",
    "print(\"mode of sci:\",mode(list(df['sci'])))"
   ]
  },
  {
   "cell_type": "code",
   "execution_count": 170,
   "id": "db907c30",
   "metadata": {},
   "outputs": [
    {
     "name": "stdout",
     "output_type": "stream",
     "text": [
      "65.0\n",
      "mode of tel: None\n",
      "66.0\n",
      "mode of eng: None\n",
      "76.0\n",
      "mode of mat: None\n",
      "88.0\n",
      "mode of sci: None\n"
     ]
    }
   ],
   "source": [
    "print(\"mode of tel:\",mode1(list(df['tel'])))\n",
    "print(\"mode of eng:\",mode1(list(df['eng'])))\n",
    "print(\"mode of mat:\",mode1(list(df['mat'])))\n",
    "print(\"mode of sci:\",mode1(list(df['sci'])))"
   ]
  }
 ],
 "metadata": {
  "kernelspec": {
   "display_name": "Python 3 (ipykernel)",
   "language": "python",
   "name": "python3"
  },
  "language_info": {
   "codemirror_mode": {
    "name": "ipython",
    "version": 3
   },
   "file_extension": ".py",
   "mimetype": "text/x-python",
   "name": "python",
   "nbconvert_exporter": "python",
   "pygments_lexer": "ipython3",
   "version": "3.9.13"
  }
 },
 "nbformat": 4,
 "nbformat_minor": 5
}
