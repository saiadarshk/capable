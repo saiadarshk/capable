{
 "cells": [
  {
   "cell_type": "code",
   "execution_count": 1,
   "id": "e8287716",
   "metadata": {},
   "outputs": [],
   "source": [
    "import random"
   ]
  },
  {
   "cell_type": "code",
   "execution_count": 6,
   "id": "52b8df98",
   "metadata": {},
   "outputs": [
    {
     "data": {
      "text/plain": [
       "10"
      ]
     },
     "execution_count": 6,
     "metadata": {},
     "output_type": "execute_result"
    }
   ],
   "source": [
    "random.randint(1,10)"
   ]
  },
  {
   "cell_type": "markdown",
   "id": "e863e82e",
   "metadata": {},
   "source": [
    "## print a random number of user defined size"
   ]
  },
  {
   "cell_type": "code",
   "execution_count": 70,
   "id": "3a6cacef",
   "metadata": {},
   "outputs": [
    {
     "name": "stdout",
     "output_type": "stream",
     "text": [
      "Enter the length of the number:10\n"
     ]
    },
    {
     "data": {
      "text/plain": [
       "4419403746"
      ]
     },
     "execution_count": 70,
     "metadata": {},
     "output_type": "execute_result"
    }
   ],
   "source": [
    "import random\n",
    "y=int(input('Enter the length of the number:'))\n",
    "srt=pow(10,y-1)\n",
    "end=int('9'*y)\n",
    "random.randint(srt,end)"
   ]
  },
  {
   "cell_type": "code",
   "execution_count": 46,
   "id": "4fcd9063",
   "metadata": {},
   "outputs": [
    {
     "name": "stdout",
     "output_type": "stream",
     "text": [
      "Enter the length of the password:8\n",
      "95718088\n"
     ]
    }
   ],
   "source": [
    "len=int(input('Enter the length of the password:'))\n",
    "password=''\n",
    "for i in range(len):\n",
    "    password+=chr(random.randint(48,57))\n",
    "print(password)"
   ]
  },
  {
   "cell_type": "markdown",
   "id": "c6db3688",
   "metadata": {},
   "source": [
    "## alphabet(A-Z)"
   ]
  },
  {
   "cell_type": "code",
   "execution_count": 13,
   "id": "86b874ac",
   "metadata": {},
   "outputs": [
    {
     "data": {
      "text/plain": [
       "122"
      ]
     },
     "execution_count": 13,
     "metadata": {},
     "output_type": "execute_result"
    }
   ],
   "source": [
    "ord('z')"
   ]
  },
  {
   "cell_type": "code",
   "execution_count": 15,
   "id": "708b41ff",
   "metadata": {},
   "outputs": [
    {
     "data": {
      "text/plain": [
       "'z'"
      ]
     },
     "execution_count": 15,
     "metadata": {},
     "output_type": "execute_result"
    }
   ],
   "source": [
    "chr(122)"
   ]
  },
  {
   "cell_type": "code",
   "execution_count": 38,
   "id": "999ddddb",
   "metadata": {},
   "outputs": [
    {
     "data": {
      "text/plain": [
       "'I'"
      ]
     },
     "execution_count": 38,
     "metadata": {},
     "output_type": "execute_result"
    }
   ],
   "source": [
    "chr(random.randint(65,90))#ascii code of A=65 and Z=90"
   ]
  },
  {
   "cell_type": "code",
   "execution_count": 41,
   "id": "1bf05a86",
   "metadata": {},
   "outputs": [
    {
     "name": "stdout",
     "output_type": "stream",
     "text": [
      "Enter the length of the password:8\n",
      "ZXQCUSPS\n"
     ]
    }
   ],
   "source": [
    "len=int(input('Enter the length of the password:'))\n",
    "password=''\n",
    "for i in range(len):\n",
    "    password+=chr(random.randint(65,90))\n",
    "print(password)"
   ]
  },
  {
   "cell_type": "markdown",
   "id": "6ffcb612",
   "metadata": {},
   "source": [
    "## alphabet(a-z)"
   ]
  },
  {
   "cell_type": "code",
   "execution_count": 42,
   "id": "13945839",
   "metadata": {},
   "outputs": [
    {
     "name": "stdout",
     "output_type": "stream",
     "text": [
      "Enter the length of the password:8\n",
      "ipeowxxp\n"
     ]
    }
   ],
   "source": [
    "len=int(input('Enter the length of the password:'))\n",
    "password=''\n",
    "for i in range(len):\n",
    "    password+=chr(random.randint(97,122))\n",
    "print(password)"
   ]
  },
  {
   "cell_type": "markdown",
   "id": "72dd7f15",
   "metadata": {},
   "source": [
    "## alphanumeric with special characters"
   ]
  },
  {
   "cell_type": "code",
   "execution_count": 47,
   "id": "c21fe94e",
   "metadata": {},
   "outputs": [
    {
     "name": "stdout",
     "output_type": "stream",
     "text": [
      "Enter the length of the password:8\n",
      "5=]5%&pE\n"
     ]
    }
   ],
   "source": [
    "len=int(input('Enter the length of the password:'))\n",
    "password=''\n",
    "for i in range(len):\n",
    "    password+=chr(random.randint(33,126))\n",
    "print(password)"
   ]
  },
  {
   "cell_type": "markdown",
   "id": "e943dcaa",
   "metadata": {},
   "source": [
    "## alphanumeric without special characters"
   ]
  },
  {
   "cell_type": "code",
   "execution_count": 1,
   "id": "43b00f35",
   "metadata": {},
   "outputs": [
    {
     "name": "stdout",
     "output_type": "stream",
     "text": [
      "Enter the length of the password:5\n",
      "password: akGyo\n"
     ]
    }
   ],
   "source": [
    "import random\n",
    "y=int(input('Enter the length of the password:'))\n",
    "password=\"\"\n",
    "while len(password)!=y:\n",
    "    ch=chr(random.randint(33,122))\n",
    "    if ord(ch) >=35 and ord(ch) <=38:\n",
    "        password+=ch\n",
    "    elif ord(ch) >=48 and ord(ch) <=57:\n",
    "        password+=ch\n",
    "    elif ord(ch) >=65 and ord(ch) <=90:\n",
    "        password+=ch\n",
    "    elif ord(ch) >=97 and ord(ch) <=122:\n",
    "        password+=ch\n",
    "print('password:',password)"
   ]
  },
  {
   "cell_type": "code",
   "execution_count": null,
   "id": "874ab020",
   "metadata": {},
   "outputs": [],
   "source": []
  }
 ],
 "metadata": {
  "kernelspec": {
   "display_name": "Python 3 (ipykernel)",
   "language": "python",
   "name": "python3"
  },
  "language_info": {
   "codemirror_mode": {
    "name": "ipython",
    "version": 3
   },
   "file_extension": ".py",
   "mimetype": "text/x-python",
   "name": "python",
   "nbconvert_exporter": "python",
   "pygments_lexer": "ipython3",
   "version": "3.9.13"
  }
 },
 "nbformat": 4,
 "nbformat_minor": 5
}
