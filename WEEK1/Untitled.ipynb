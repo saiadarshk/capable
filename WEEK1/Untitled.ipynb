{
 "cells": [
  {
   "cell_type": "markdown",
   "id": "5a9ebd7b",
   "metadata": {},
   "source": [
    "## 1)int"
   ]
  },
  {
   "cell_type": "code",
   "execution_count": 4,
   "id": "dbc74250",
   "metadata": {},
   "outputs": [
    {
     "name": "stdout",
     "output_type": "stream",
     "text": [
      "1\n",
      "20\n",
      "-1\n",
      "555584892\n"
     ]
    }
   ],
   "source": [
    "print(1)\n",
    "print(20)\n",
    "print(-1)\n",
    "print(555584892)"
   ]
  },
  {
   "cell_type": "markdown",
   "id": "dc813b8f",
   "metadata": {},
   "source": [
    "## 2)Float"
   ]
  },
  {
   "cell_type": "code",
   "execution_count": 5,
   "id": "e8eb7531",
   "metadata": {},
   "outputs": [
    {
     "name": "stdout",
     "output_type": "stream",
     "text": [
      "25.24\n",
      "0.01\n",
      "-1.25\n",
      "52.2545\n"
     ]
    }
   ],
   "source": [
    "print(25.24)\n",
    "print(0.01)\n",
    "print(-1.25)\n",
    "print(52.2545)"
   ]
  },
  {
   "cell_type": "markdown",
   "id": "48997fae",
   "metadata": {},
   "source": [
    "## 3)Str"
   ]
  },
  {
   "cell_type": "code",
   "execution_count": 6,
   "id": "356344fa",
   "metadata": {},
   "outputs": [
    {
     "name": "stdout",
     "output_type": "stream",
     "text": [
      "sai\n",
      "sai\n",
      "sai\n"
     ]
    }
   ],
   "source": [
    "print('sai')\n",
    "print(\"sai\")\n",
    "print('''sai''')"
   ]
  },
  {
   "cell_type": "markdown",
   "id": "3c800914",
   "metadata": {},
   "source": [
    "## 4)Boolean"
   ]
  },
  {
   "cell_type": "code",
   "execution_count": 7,
   "id": "21d381d7",
   "metadata": {},
   "outputs": [
    {
     "name": "stdout",
     "output_type": "stream",
     "text": [
      "True\n",
      "False\n"
     ]
    }
   ],
   "source": [
    "print(True)\n",
    "print(False)"
   ]
  },
  {
   "cell_type": "code",
   "execution_count": null,
   "id": "97390291",
   "metadata": {},
   "outputs": [],
   "source": [
    "num=int(input(\"Enter the number:\"))\n",
    "for num in range(0,21):\n",
    "    if(num%2==0):\n",
    "        print(num)"
   ]
  }
 ],
 "metadata": {
  "kernelspec": {
   "display_name": "Python 3 (ipykernel)",
   "language": "python",
   "name": "python3"
  },
  "language_info": {
   "codemirror_mode": {
    "name": "ipython",
    "version": 3
   },
   "file_extension": ".py",
   "mimetype": "text/x-python",
   "name": "python",
   "nbconvert_exporter": "python",
   "pygments_lexer": "ipython3",
   "version": "3.9.13"
  }
 },
 "nbformat": 4,
 "nbformat_minor": 5
}
