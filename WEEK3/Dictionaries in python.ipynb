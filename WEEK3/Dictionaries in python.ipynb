{
 "cells": [
  {
   "cell_type": "code",
   "execution_count": 15,
   "id": "6aea298b",
   "metadata": {},
   "outputs": [],
   "source": [
    "dic={\"sai\":2,'adarsh':23}"
   ]
  },
  {
   "cell_type": "code",
   "execution_count": 2,
   "id": "464e57e9",
   "metadata": {},
   "outputs": [
    {
     "data": {
      "text/plain": [
       "dict"
      ]
     },
     "execution_count": 2,
     "metadata": {},
     "output_type": "execute_result"
    }
   ],
   "source": [
    "type (dic)"
   ]
  },
  {
   "cell_type": "code",
   "execution_count": 6,
   "id": "4ad3a4da",
   "metadata": {},
   "outputs": [
    {
     "name": "stdout",
     "output_type": "stream",
     "text": [
      "2\n"
     ]
    }
   ],
   "source": [
    "print(dic['sai'])"
   ]
  },
  {
   "cell_type": "code",
   "execution_count": 8,
   "id": "3f8a2b88",
   "metadata": {},
   "outputs": [],
   "source": [
    "del dic['adarsh']"
   ]
  },
  {
   "cell_type": "code",
   "execution_count": 9,
   "id": "686c51d3",
   "metadata": {},
   "outputs": [
    {
     "data": {
      "text/plain": [
       "{'sai': 2}"
      ]
     },
     "execution_count": 9,
     "metadata": {},
     "output_type": "execute_result"
    }
   ],
   "source": [
    "dic"
   ]
  },
  {
   "cell_type": "code",
   "execution_count": 10,
   "id": "4fba128d",
   "metadata": {},
   "outputs": [],
   "source": [
    "dic[2]='adarsh'"
   ]
  },
  {
   "cell_type": "code",
   "execution_count": 11,
   "id": "fe88e203",
   "metadata": {},
   "outputs": [
    {
     "data": {
      "text/plain": [
       "{'sai': 2, 2: 'adarsh'}"
      ]
     },
     "execution_count": 11,
     "metadata": {},
     "output_type": "execute_result"
    }
   ],
   "source": [
    "dic"
   ]
  },
  {
   "cell_type": "code",
   "execution_count": 16,
   "id": "b85e9e60",
   "metadata": {},
   "outputs": [
    {
     "name": "stdout",
     "output_type": "stream",
     "text": [
      "['sai']\n"
     ]
    }
   ],
   "source": [
    "print([\"sai\"])"
   ]
  }
 ],
 "metadata": {
  "kernelspec": {
   "display_name": "Python 3 (ipykernel)",
   "language": "python",
   "name": "python3"
  },
  "language_info": {
   "codemirror_mode": {
    "name": "ipython",
    "version": 3
   },
   "file_extension": ".py",
   "mimetype": "text/x-python",
   "name": "python",
   "nbconvert_exporter": "python",
   "pygments_lexer": "ipython3",
   "version": "3.9.13"
  }
 },
 "nbformat": 4,
 "nbformat_minor": 5
}
