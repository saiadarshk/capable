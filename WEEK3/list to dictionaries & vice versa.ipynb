{
 "cells": [
  {
   "cell_type": "code",
   "execution_count": 49,
   "id": "00e8133b",
   "metadata": {},
   "outputs": [],
   "source": [
    "data=[[1,'prakash',65,56,54,55],\n",
    "     [2,'sai',58,62,54,66],\n",
    "     [3,'adarsh',59,51,75,65]]"
   ]
  },
  {
   "cell_type": "code",
   "execution_count": 50,
   "id": "946013f1",
   "metadata": {},
   "outputs": [
    {
     "data": {
      "text/plain": [
       "[[1, 'prakash', 65, 56, 54, 55],\n",
       " [2, 'sai', 58, 62, 54, 66],\n",
       " [3, 'adarsh', 59, 51, 75, 65]]"
      ]
     },
     "execution_count": 50,
     "metadata": {},
     "output_type": "execute_result"
    }
   ],
   "source": [
    "data"
   ]
  },
  {
   "cell_type": "code",
   "execution_count": 55,
   "id": "91b3695e",
   "metadata": {},
   "outputs": [],
   "source": [
    "dct={1:{'name':'prakash','eng':65,'hin':56,'mat':54,'sci':55},\n",
    "     2:{'name':'sai','eng':58,'hin':62,'mat':54,'sci':66},\n",
    "     3:{'name':'adarsh','eng':59,'hin':51,'mat':75,'sci':65}}"
   ]
  },
  {
   "cell_type": "code",
   "execution_count": 56,
   "id": "0415b176",
   "metadata": {},
   "outputs": [
    {
     "data": {
      "text/plain": [
       "{1: {'name': 'prakash', 'eng': 65, 'hin': 56, 'mat': 54, 'sci': 55},\n",
       " 2: {'name': 'sai', 'eng': 58, 'hin': 62, 'mat': 54, 'sci': 66},\n",
       " 3: {'name': 'adarsh', 'eng': 59, 'hin': 51, 'mat': 75, 'sci': 65}}"
      ]
     },
     "execution_count": 56,
     "metadata": {},
     "output_type": "execute_result"
    }
   ],
   "source": [
    "dct"
   ]
  },
  {
   "cell_type": "markdown",
   "id": "798a33e5",
   "metadata": {},
   "source": [
    "## list to dictionary"
   ]
  },
  {
   "cell_type": "code",
   "execution_count": 53,
   "id": "507511c8",
   "metadata": {},
   "outputs": [
    {
     "data": {
      "text/plain": [
       "{1: {'name': 'prakash', 'eng': 65, 'hin': 56, 'mat': 54, 'sci': 55},\n",
       " 2: {'name': 'sai', 'eng': 58, 'hin': 62, 'mat': 54, 'sci': 66},\n",
       " 3: {'name': 'adarsh', 'eng': 59, 'hin': 51, 'mat': 75, 'sci': 65}}"
      ]
     },
     "execution_count": 53,
     "metadata": {},
     "output_type": "execute_result"
    }
   ],
   "source": [
    "dic={}\n",
    "\n",
    "for i in data:\n",
    "    \n",
    "    student={}\n",
    "    \n",
    "    \n",
    "    student['name']=i[1]\n",
    "    student['eng']=i[2]\n",
    "    student['hin']=i[3]\n",
    "    student['mat']=i[4]\n",
    "    student['sci']=i[5]\n",
    "    \n",
    "    dic[i[0]]=student\n",
    "dic"
   ]
  },
  {
   "cell_type": "code",
   "execution_count": 65,
   "id": "4a6bad0b",
   "metadata": {},
   "outputs": [
    {
     "data": {
      "text/plain": [
       "[[1, 'prakash', 65, 56, 54, 55],\n",
       " [2, 'sai', 58, 62, 54, 66],\n",
       " [3, 'adarsh', 59, 51, 75, 65]]"
      ]
     },
     "execution_count": 65,
     "metadata": {},
     "output_type": "execute_result"
    }
   ],
   "source": [
    "d=[]\n",
    "for roll_no in dct.keys():\n",
    "    d.append([roll_no,dct[roll_no]['name'],dct[roll_no]['eng'],dct[roll_no]['hin'],dct[roll_no]['mat'],dct[roll_no]['sci']])\n",
    "d"
   ]
  }
 ],
 "metadata": {
  "kernelspec": {
   "display_name": "Python 3 (ipykernel)",
   "language": "python",
   "name": "python3"
  },
  "language_info": {
   "codemirror_mode": {
    "name": "ipython",
    "version": 3
   },
   "file_extension": ".py",
   "mimetype": "text/x-python",
   "name": "python",
   "nbconvert_exporter": "python",
   "pygments_lexer": "ipython3",
   "version": "3.9.13"
  }
 },
 "nbformat": 4,
 "nbformat_minor": 5
}
