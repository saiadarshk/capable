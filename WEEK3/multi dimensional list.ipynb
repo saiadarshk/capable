{
 "cells": [
  {
   "cell_type": "code",
   "execution_count": 8,
   "id": "bfc4197d",
   "metadata": {},
   "outputs": [],
   "source": [
    "data=[[1,'sai',60,70,67,95],[2,'adarsh',54,67,66,43],[3,'manoj',43,45,34,75]]\n",
    "#0= roll_no\n",
    "#1= name\n",
    "#2= eng\n",
    "#3= math\n",
    "#4=sci\n",
    "#5= soc"
   ]
  },
  {
   "cell_type": "code",
   "execution_count": 9,
   "id": "04cbfaed",
   "metadata": {},
   "outputs": [
    {
     "name": "stdout",
     "output_type": "stream",
     "text": [
      "Enter the roll no. 1\n",
      "Sci= 67\n",
      "Total for that student= 292\n"
     ]
    }
   ],
   "source": [
    "roll_no=int(input(\"Enter the roll no. \"))\n",
    "for student in data:\n",
    "    if (student[0]==roll_no):\n",
    "        print(\"Sci=\",student[4])\n",
    "        print(\"Total for that student=\",sum(student[2:]))\n"
   ]
  },
  {
   "cell_type": "markdown",
   "id": "18482476",
   "metadata": {},
   "source": [
    "## Avg and top marks in eng"
   ]
  },
  {
   "cell_type": "code",
   "execution_count": 11,
   "id": "b91cb918",
   "metadata": {},
   "outputs": [
    {
     "name": "stdout",
     "output_type": "stream",
     "text": [
      "Average : 60.666666666666664\n",
      "Maximum : 70\n"
     ]
    }
   ],
   "source": [
    "eng=[]\n",
    "for i in data:\n",
    "    eng.append(i[3])\n",
    "print(\"Average :\",sum(eng)/len(eng))\n",
    "print(\"Maximum :\",max(eng))"
   ]
  },
  {
   "cell_type": "markdown",
   "id": "88d9f41f",
   "metadata": {},
   "source": [
    "## who scored most marks in english"
   ]
  },
  {
   "cell_type": "code",
   "execution_count": 12,
   "id": "26087b56",
   "metadata": {},
   "outputs": [
    {
     "name": "stdout",
     "output_type": "stream",
     "text": [
      "sai\n"
     ]
    }
   ],
   "source": [
    "eng=[]\n",
    "for i in data:\n",
    "    eng.append(i[3])\n",
    "for i in data:\n",
    "    if(i[3]==max (eng)):\n",
    "        print(i[1])"
   ]
  },
  {
   "cell_type": "code",
   "execution_count": 13,
   "id": "474c8fab",
   "metadata": {},
   "outputs": [
    {
     "name": "stdout",
     "output_type": "stream",
     "text": [
      "manoj\n"
     ]
    }
   ],
   "source": [
    "print(data[2][1])"
   ]
  },
  {
   "cell_type": "markdown",
   "id": "3f981e72",
   "metadata": {},
   "source": [
    "## program to create a 2d list of size 10*10 with all zeros"
   ]
  },
  {
   "cell_type": "code",
   "execution_count": 17,
   "id": "f273ae75",
   "metadata": {},
   "outputs": [
    {
     "name": "stdout",
     "output_type": "stream",
     "text": [
      "Enter the number of rows:2\n",
      "Enter the number of coulmns:2\n",
      "[0, 0]\n",
      "[0, 0]\n"
     ]
    }
   ],
   "source": [
    "n=int(input(\"Enter the number of rows:\"))\n",
    "m=int(input(\"Enter the number of coulmns:\"))\n",
    "matrix=[[0 for j in range (m)] for i in range (n)]\n",
    "for row in matrix:\n",
    "    print(row)"
   ]
  }
 ],
 "metadata": {
  "kernelspec": {
   "display_name": "Python 3 (ipykernel)",
   "language": "python",
   "name": "python3"
  },
  "language_info": {
   "codemirror_mode": {
    "name": "ipython",
    "version": 3
   },
   "file_extension": ".py",
   "mimetype": "text/x-python",
   "name": "python",
   "nbconvert_exporter": "python",
   "pygments_lexer": "ipython3",
   "version": "3.9.13"
  }
 },
 "nbformat": 4,
 "nbformat_minor": 5
}
