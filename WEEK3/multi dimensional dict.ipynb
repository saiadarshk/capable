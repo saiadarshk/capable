{
 "cells": [
  {
   "cell_type": "code",
   "execution_count": 2,
   "id": "ae32cfb0",
   "metadata": {},
   "outputs": [],
   "source": [
    "data={1:{'Name':'Prakash','eng':45,'sci':56,'math':61,'hin':67},\n",
    "      2:{'Name':'xzi','eng':21,'sci':12,'math':11,'hin':21},\n",
    "      3:{'Name':'sai','eng':55,'sci':55,'math':66,'hin':57}}"
   ]
  },
  {
   "cell_type": "code",
   "execution_count": 3,
   "id": "b13bd0bf",
   "metadata": {},
   "outputs": [
    {
     "data": {
      "text/plain": [
       "'Prakash'"
      ]
     },
     "execution_count": 3,
     "metadata": {},
     "output_type": "execute_result"
    }
   ],
   "source": [
    "data[1]['Name']"
   ]
  },
  {
   "cell_type": "code",
   "execution_count": 9,
   "id": "f8f5befe",
   "metadata": {},
   "outputs": [
    {
     "name": "stdout",
     "output_type": "stream",
     "text": [
      "Enter the roll.no:1\n",
      "^^^^^^^^^^^^^^\n",
      "Name: Prakash\n",
      "eng: 45\n",
      "sci: 56\n",
      "math: 61\n",
      "hin: 67\n",
      "^^^^^^^^^^^^^^\n",
      "Total: 229\n",
      "^^^^^^^^^^^^^^\n",
      "Avg: 57.25\n",
      "^^^^^^^^^^^^^^\n"
     ]
    }
   ],
   "source": [
    "roll_no=int(input('Enter the roll.no:'))\n",
    "print('^'*14)\n",
    "print('Name:',data[roll_no]['Name'])\n",
    "print('eng:',data[roll_no]['eng'])\n",
    "print('sci:',data[roll_no]['sci'])\n",
    "print('math:',data[roll_no]['math'])\n",
    "print('hin:',data[roll_no]['hin'])\n",
    "print('^'*14)\n",
    "t=data[roll_no]['eng']+data[roll_no]['sci']+data[roll_no]['math']+data[roll_no]['hin']\n",
    "print(\"Total:\",t)\n",
    "a=(t/400)*100\n",
    "print('^'*14)\n",
    "print(\"Avg:\",a)\n",
    "print('^'*14)"
   ]
  },
  {
   "cell_type": "markdown",
   "id": "ff2d0861",
   "metadata": {},
   "source": [
    "## Avg and top marks in eng"
   ]
  },
  {
   "cell_type": "code",
   "execution_count": 19,
   "id": "8de49537",
   "metadata": {},
   "outputs": [
    {
     "name": "stdout",
     "output_type": "stream",
     "text": [
      "55\n",
      "40.333333333333336\n"
     ]
    }
   ],
   "source": [
    "eng=[]\n",
    "for key in data.keys():\n",
    "    eng.append(data[key]['eng'])\n",
    "marks=max(eng)\n",
    "for key in data.keys():\n",
    "    if (data[key]['eng']==[marks]):\n",
    "        print(data[key][''])\n",
    "print(max(eng))\n",
    "print(sum(eng)/len(eng))"
   ]
  },
  {
   "cell_type": "code",
   "execution_count": 27,
   "id": "0a5a67fe",
   "metadata": {},
   "outputs": [
    {
     "name": "stdout",
     "output_type": "stream",
     "text": [
      "sai\n"
     ]
    }
   ],
   "source": [
    "eng=[]\n",
    "\n",
    "for key in data.keys():\n",
    "    eng.append(data[key]['eng'])\n",
    "    \n",
    "marks=max(eng)\n",
    "\n",
    "for key in data.keys():\n",
    "    if (data[key]['eng']==marks):\n",
    "        print(data[key]['Name'])"
   ]
  },
  {
   "cell_type": "code",
   "execution_count": null,
   "id": "fd734b30",
   "metadata": {},
   "outputs": [],
   "source": []
  },
  {
   "cell_type": "code",
   "execution_count": 4,
   "id": "7d636e16",
   "metadata": {},
   "outputs": [
    {
     "name": "stdout",
     "output_type": "stream",
     "text": [
      "Enter the name:sai\n",
      "55\n"
     ]
    }
   ],
   "source": [
    "name=input(\"Enter the name:\")\n",
    "for key in data.keys():\n",
    "    if(data[key]['Name'].lower()==name.lower()):\n",
    "        print(data[key]['eng'])"
   ]
  }
 ],
 "metadata": {
  "kernelspec": {
   "display_name": "Python 3 (ipykernel)",
   "language": "python",
   "name": "python3"
  },
  "language_info": {
   "codemirror_mode": {
    "name": "ipython",
    "version": 3
   },
   "file_extension": ".py",
   "mimetype": "text/x-python",
   "name": "python",
   "nbconvert_exporter": "python",
   "pygments_lexer": "ipython3",
   "version": "3.9.13"
  }
 },
 "nbformat": 4,
 "nbformat_minor": 5
}
